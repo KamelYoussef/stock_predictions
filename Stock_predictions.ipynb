{
 "cells": [
  {
   "cell_type": "code",
   "execution_count": 66,
   "metadata": {},
   "outputs": [],
   "source": [
    "import pandas as pd\n",
    "from keras.models import load_model\n",
    "import datasist as ds\n",
    "import seaborn as sns\n",
    "import math\n",
    "import numpy as np\n",
    "import matplotlib.pyplot as plt\n",
    "from sklearn.preprocessing import MinMaxScaler\n",
    "from keras.layers import Dense, LSTM\n",
    "from tensorflow.keras.models import Sequential"
   ]
  },
  {
   "cell_type": "code",
   "execution_count": 87,
   "metadata": {},
   "outputs": [
    {
     "data": {
      "text/html": [
       "<div>\n",
       "<style scoped>\n",
       "    .dataframe tbody tr th:only-of-type {\n",
       "        vertical-align: middle;\n",
       "    }\n",
       "\n",
       "    .dataframe tbody tr th {\n",
       "        vertical-align: top;\n",
       "    }\n",
       "\n",
       "    .dataframe thead th {\n",
       "        text-align: right;\n",
       "    }\n",
       "</style>\n",
       "<table border=\"1\" class=\"dataframe\">\n",
       "  <thead>\n",
       "    <tr style=\"text-align: right;\">\n",
       "      <th></th>\n",
       "      <th>Date</th>\n",
       "      <th>COURS_CLOTURE</th>\n",
       "      <th>COURS_AJUSTE</th>\n",
       "      <th>EVOLUTION</th>\n",
       "      <th>QUANTITE_ECHANGE</th>\n",
       "      <th>VOLUME</th>\n",
       "    </tr>\n",
       "  </thead>\n",
       "  <tbody>\n",
       "    <tr>\n",
       "      <td>0</td>\n",
       "      <td>2021-2-12</td>\n",
       "      <td>697.9</td>\n",
       "      <td>697.9</td>\n",
       "      <td>0.27</td>\n",
       "      <td>433</td>\n",
       "      <td>302106.70</td>\n",
       "    </tr>\n",
       "    <tr>\n",
       "      <td>1</td>\n",
       "      <td>2021-2-11</td>\n",
       "      <td>696.0</td>\n",
       "      <td>696.0</td>\n",
       "      <td>0.00</td>\n",
       "      <td>110</td>\n",
       "      <td>76570.00</td>\n",
       "    </tr>\n",
       "    <tr>\n",
       "      <td>2</td>\n",
       "      <td>2021-2-10</td>\n",
       "      <td>696.0</td>\n",
       "      <td>696.0</td>\n",
       "      <td>1.44</td>\n",
       "      <td>1263</td>\n",
       "      <td>878654.00</td>\n",
       "    </tr>\n",
       "    <tr>\n",
       "      <td>3</td>\n",
       "      <td>2021-2-9</td>\n",
       "      <td>686.1</td>\n",
       "      <td>686.1</td>\n",
       "      <td>-0.92</td>\n",
       "      <td>595</td>\n",
       "      <td>409863.40</td>\n",
       "    </tr>\n",
       "    <tr>\n",
       "      <td>4</td>\n",
       "      <td>2021-2-8</td>\n",
       "      <td>692.5</td>\n",
       "      <td>692.5</td>\n",
       "      <td>-0.06</td>\n",
       "      <td>3000</td>\n",
       "      <td>2070524.30</td>\n",
       "    </tr>\n",
       "    <tr>\n",
       "      <td>...</td>\n",
       "      <td>...</td>\n",
       "      <td>...</td>\n",
       "      <td>...</td>\n",
       "      <td>...</td>\n",
       "      <td>...</td>\n",
       "      <td>...</td>\n",
       "    </tr>\n",
       "    <tr>\n",
       "      <td>195</td>\n",
       "      <td>2020-4-28</td>\n",
       "      <td>404.0</td>\n",
       "      <td>404.0</td>\n",
       "      <td>3.59</td>\n",
       "      <td>816</td>\n",
       "      <td>326018.00</td>\n",
       "    </tr>\n",
       "    <tr>\n",
       "      <td>196</td>\n",
       "      <td>2020-4-27</td>\n",
       "      <td>390.0</td>\n",
       "      <td>390.0</td>\n",
       "      <td>-2.50</td>\n",
       "      <td>148</td>\n",
       "      <td>57780.25</td>\n",
       "    </tr>\n",
       "    <tr>\n",
       "      <td>197</td>\n",
       "      <td>2020-4-24</td>\n",
       "      <td>400.0</td>\n",
       "      <td>400.0</td>\n",
       "      <td>0.00</td>\n",
       "      <td>51</td>\n",
       "      <td>20400.00</td>\n",
       "    </tr>\n",
       "    <tr>\n",
       "      <td>198</td>\n",
       "      <td>2020-4-23</td>\n",
       "      <td>400.0</td>\n",
       "      <td>400.0</td>\n",
       "      <td>0.05</td>\n",
       "      <td>19</td>\n",
       "      <td>7599.60</td>\n",
       "    </tr>\n",
       "    <tr>\n",
       "      <td>199</td>\n",
       "      <td>2020-4-22</td>\n",
       "      <td>399.8</td>\n",
       "      <td>399.8</td>\n",
       "      <td>2.51</td>\n",
       "      <td>10</td>\n",
       "      <td>3995.95</td>\n",
       "    </tr>\n",
       "  </tbody>\n",
       "</table>\n",
       "<p>200 rows × 6 columns</p>\n",
       "</div>"
      ],
      "text/plain": [
       "          Date  COURS_CLOTURE  COURS_AJUSTE  EVOLUTION  QUANTITE_ECHANGE  \\\n",
       "0    2021-2-12          697.9         697.9       0.27               433   \n",
       "1    2021-2-11          696.0         696.0       0.00               110   \n",
       "2    2021-2-10          696.0         696.0       1.44              1263   \n",
       "3     2021-2-9          686.1         686.1      -0.92               595   \n",
       "4     2021-2-8          692.5         692.5      -0.06              3000   \n",
       "..         ...            ...           ...        ...               ...   \n",
       "195  2020-4-28          404.0         404.0       3.59               816   \n",
       "196  2020-4-27          390.0         390.0      -2.50               148   \n",
       "197  2020-4-24          400.0         400.0       0.00                51   \n",
       "198  2020-4-23          400.0         400.0       0.05                19   \n",
       "199  2020-4-22          399.8         399.8       2.51                10   \n",
       "\n",
       "         VOLUME  \n",
       "0     302106.70  \n",
       "1      76570.00  \n",
       "2     878654.00  \n",
       "3     409863.40  \n",
       "4    2070524.30  \n",
       "..          ...  \n",
       "195   326018.00  \n",
       "196    57780.25  \n",
       "197    20400.00  \n",
       "198     7599.60  \n",
       "199     3995.95  \n",
       "\n",
       "[200 rows x 6 columns]"
      ]
     },
     "execution_count": 87,
     "metadata": {},
     "output_type": "execute_result"
    }
   ],
   "source": [
    "path = './microdata.csv'\n",
    "raw = pd.read_csv(path, encoding= 'unicode_escape')\n",
    "raw"
   ]
  },
  {
   "cell_type": "code",
   "execution_count": 68,
   "metadata": {},
   "outputs": [],
   "source": [
    "cours = raw.iloc[:,0:2]\n",
    "cours['Date'] =  pd.to_datetime(cours['Date'])\n",
    "cours = cours.sort_values(by='Date')\n",
    "cours.reset_index(inplace=True)\n",
    "del cours['index']"
   ]
  },
  {
   "cell_type": "code",
   "execution_count": 69,
   "metadata": {},
   "outputs": [
    {
     "data": {
      "image/png": "[encoded data removed]",
      "text/plain": [
       "<Figure size 1152x576 with 1 Axes>"
      ]
     },
     "metadata": {
      "needs_background": "light"
     },
     "output_type": "display_data"
    }
   ],
   "source": [
    "plt.figure(figsize=(16,8))\n",
    "plt.plot(cours.set_index('Date')['COURS_CLOTURE'])\n",
    "plt.show()"
   ]
  },
  {
   "cell_type": "code",
   "execution_count": 70,
   "metadata": {},
   "outputs": [],
   "source": [
    "data = cours.filter(['COURS_CLOTURE'])\n",
    "dataset = data.values\n",
    "training_data_len = math.ceil(len(dataset) * .8)"
   ]
  },
  {
   "cell_type": "code",
   "execution_count": 71,
   "metadata": {},
   "outputs": [],
   "source": [
    "scaler = MinMaxScaler(feature_range = (0,1))\n",
    "scaled_data = scaler.fit_transform(dataset)"
   ]
  },
  {
   "cell_type": "code",
   "execution_count": 72,
   "metadata": {},
   "outputs": [],
   "source": [
    "train_data = scaled_data[0:training_data_len, :]\n",
    "x_train = []\n",
    "y_train = []\n",
    "\n",
    "for i in range(60, len(train_data)):\n",
    "    x_train.append(train_data[i-60:i,0])\n",
    "    y_train.append(train_data[i,0])"
   ]
  },
  {
   "cell_type": "code",
   "execution_count": 73,
   "metadata": {},
   "outputs": [],
   "source": [
    "x_train, y_train = np.array(x_train), np.array(y_train)"
   ]
  },
  {
   "cell_type": "code",
   "execution_count": 74,
   "metadata": {},
   "outputs": [],
   "source": [
    "x_train = np.reshape(x_train, (x_train.shape[0],x_train.shape[1],1))"
   ]
  },
  {
   "cell_type": "code",
   "execution_count": 75,
   "metadata": {},
   "outputs": [],
   "source": [
    "model = Sequential()\n",
    "model.add(LSTM(50, return_sequences=True, input_shape = (x_train.shape[1], 1)))\n",
    "model.add(LSTM(50, return_sequences=False))\n",
    "model.add(Dense(25))\n",
    "model.add(Dense(1))"
   ]
  },
  {
   "cell_type": "code",
   "execution_count": 76,
   "metadata": {},
   "outputs": [],
   "source": [
    "model.compile(optimizer=\"adam\", loss=\"mean_squared_error\")"
   ]
  },
  {
   "cell_type": "code",
   "execution_count": 77,
   "metadata": {},
   "outputs": [
    {
     "name": "stdout",
     "output_type": "stream",
     "text": [
      "Epoch 1/100\n",
      "100/100 [==============================] - 3s 16ms/step - loss: 0.0277\n",
      "Epoch 2/100\n",
      "100/100 [==============================] - 2s 16ms/step - loss: 0.0030\n",
      "Epoch 3/100\n",
      "100/100 [==============================] - 2s 16ms/step - loss: 0.0032\n",
      "Epoch 4/100\n",
      "100/100 [==============================] - 2s 15ms/step - loss: 0.0020\n",
      "Epoch 5/100\n",
      "100/100 [==============================] - 2s 16ms/step - loss: 0.0012\n",
      "Epoch 6/100\n",
      "100/100 [==============================] - 2s 21ms/step - loss: 0.0018\n",
      "Epoch 7/100\n",
      "100/100 [==============================] - 2s 20ms/step - loss: 9.3655e-04\n",
      "Epoch 8/100\n",
      "100/100 [==============================] - 2s 20ms/step - loss: 0.0011\n",
      "Epoch 9/100\n",
      "100/100 [==============================] - 2s 20ms/step - loss: 0.0024\n",
      "Epoch 10/100\n",
      "100/100 [==============================] - 2s 19ms/step - loss: 0.0010\n",
      "Epoch 11/100\n",
      "100/100 [==============================] - 2s 19ms/step - loss: 8.7824e-04\n",
      "Epoch 12/100\n",
      "100/100 [==============================] - 2s 19ms/step - loss: 9.0207e-04\n",
      "Epoch 13/100\n",
      "100/100 [==============================] - 2s 20ms/step - loss: 9.2119e-04: 1s\n",
      "Epoch 14/100\n",
      "100/100 [==============================] - 2s 20ms/step - loss: 0.0012\n",
      "Epoch 15/100\n",
      "100/100 [==============================] - 2s 23ms/step - loss: 8.0489e-04\n",
      "Epoch 16/100\n",
      "100/100 [==============================] - 2s 20ms/step - loss: 9.7678e-04\n",
      "Epoch 17/100\n",
      "100/100 [==============================] - 2s 20ms/step - loss: 0.0010\n",
      "Epoch 18/100\n",
      "100/100 [==============================] - 2s 20ms/step - loss: 0.0013\n",
      "Epoch 19/100\n",
      "100/100 [==============================] - 2s 20ms/step - loss: 7.2313e-04\n",
      "Epoch 20/100\n",
      "100/100 [==============================] - 2s 21ms/step - loss: 6.9286e-04\n",
      "Epoch 21/100\n",
      "100/100 [==============================] - 2s 21ms/step - loss: 9.6683e-04\n",
      "Epoch 22/100\n",
      "100/100 [==============================] - 2s 20ms/step - loss: 7.6305e-04\n",
      "Epoch 23/100\n",
      "100/100 [==============================] - 2s 19ms/step - loss: 7.7064e-04\n",
      "Epoch 24/100\n",
      "100/100 [==============================] - 2s 24ms/step - loss: 0.0011\n",
      "Epoch 25/100\n",
      "100/100 [==============================] - 2s 19ms/step - loss: 9.2086e-04\n",
      "Epoch 26/100\n",
      "100/100 [==============================] - 2s 18ms/step - loss: 7.7774e-04\n",
      "Epoch 27/100\n",
      "100/100 [==============================] - 2s 18ms/step - loss: 8.8924e-04\n",
      "Epoch 28/100\n",
      "100/100 [==============================] - 2s 18ms/step - loss: 8.7427e-04\n",
      "Epoch 29/100\n",
      "100/100 [==============================] - 2s 18ms/step - loss: 8.8333e-04\n",
      "Epoch 30/100\n",
      "100/100 [==============================] - 2s 18ms/step - loss: 7.5671e-04\n",
      "Epoch 31/100\n",
      "100/100 [==============================] - 2s 18ms/step - loss: 5.4575e-04\n",
      "Epoch 32/100\n",
      "100/100 [==============================] - 2s 18ms/step - loss: 0.0012\n",
      "Epoch 33/100\n",
      "100/100 [==============================] - 2s 18ms/step - loss: 6.5206e-04\n",
      "Epoch 34/100\n",
      "100/100 [==============================] - 2s 18ms/step - loss: 6.1368e-04\n",
      "Epoch 35/100\n",
      "100/100 [==============================] - 2s 18ms/step - loss: 5.9649e-04\n",
      "Epoch 36/100\n",
      "100/100 [==============================] - 2s 18ms/step - loss: 9.2210e-04\n",
      "Epoch 37/100\n",
      "100/100 [==============================] - 2s 17ms/step - loss: 6.0270e-04\n",
      "Epoch 38/100\n",
      "100/100 [==============================] - 2s 18ms/step - loss: 6.2131e-04: 0s - lo\n",
      "Epoch 39/100\n",
      "100/100 [==============================] - 2s 18ms/step - loss: 7.3466e-04\n",
      "Epoch 40/100\n",
      "100/100 [==============================] - 2s 17ms/step - loss: 5.7588e-04\n",
      "Epoch 41/100\n",
      "100/100 [==============================] - 2s 17ms/step - loss: 6.7137e-04\n",
      "Epoch 42/100\n",
      "100/100 [==============================] - 2s 17ms/step - loss: 5.8984e-04\n",
      "Epoch 43/100\n",
      "100/100 [==============================] - 2s 18ms/step - loss: 7.0919e-04\n",
      "Epoch 44/100\n",
      "100/100 [==============================] - 2s 17ms/step - loss: 5.9874e-04\n",
      "Epoch 45/100\n",
      "100/100 [==============================] - 2s 18ms/step - loss: 4.4282e-04\n",
      "Epoch 46/100\n",
      "100/100 [==============================] - 2s 18ms/step - loss: 0.0010\n",
      "Epoch 47/100\n",
      "100/100 [==============================] - 2s 18ms/step - loss: 9.3096e-04\n",
      "Epoch 48/100\n",
      "100/100 [==============================] - 2s 17ms/step - loss: 7.5260e-04\n",
      "Epoch 49/100\n",
      "100/100 [==============================] - 2s 16ms/step - loss: 4.9799e-04\n",
      "Epoch 50/100\n",
      "100/100 [==============================] - 2s 18ms/step - loss: 5.4424e-04\n",
      "Epoch 51/100\n",
      "100/100 [==============================] - 2s 17ms/step - loss: 6.1647e-04\n",
      "Epoch 52/100\n",
      "100/100 [==============================] - 2s 18ms/step - loss: 7.2623e-04\n",
      "Epoch 53/100\n",
      "100/100 [==============================] - 2s 17ms/step - loss: 6.2000e-04\n",
      "Epoch 54/100\n",
      "100/100 [==============================] - 2s 18ms/step - loss: 6.0518e-04\n",
      "Epoch 55/100\n",
      "100/100 [==============================] - 2s 17ms/step - loss: 6.6096e-04\n",
      "Epoch 56/100\n",
      "100/100 [==============================] - 2s 16ms/step - loss: 5.8103e-04\n",
      "Epoch 57/100\n",
      "100/100 [==============================] - 2s 17ms/step - loss: 7.5146e-04\n",
      "Epoch 58/100\n",
      "100/100 [==============================] - 2s 16ms/step - loss: 5.3759e-04: 0s - loss: 5.3140e\n",
      "Epoch 59/100\n",
      "100/100 [==============================] - 2s 16ms/step - loss: 7.0444e-04\n",
      "Epoch 60/100\n",
      "100/100 [==============================] - 2s 17ms/step - loss: 6.6716e-04\n",
      "Epoch 61/100\n",
      "100/100 [==============================] - 2s 18ms/step - loss: 4.9200e-04\n",
      "Epoch 62/100\n",
      "100/100 [==============================] - 2s 18ms/step - loss: 0.0011\n",
      "Epoch 63/100\n",
      "100/100 [==============================] - 2s 18ms/step - loss: 4.4182e-04\n",
      "Epoch 64/100\n",
      "100/100 [==============================] - 2s 18ms/step - loss: 6.9415e-04\n",
      "Epoch 65/100\n",
      "100/100 [==============================] - 2s 20ms/step - loss: 6.1244e-04\n",
      "Epoch 66/100\n",
      "100/100 [==============================] - 2s 20ms/step - loss: 8.5288e-04\n",
      "Epoch 67/100\n",
      "100/100 [==============================] - 2s 18ms/step - loss: 4.2794e-04\n",
      "Epoch 68/100\n",
      "100/100 [==============================] - 2s 17ms/step - loss: 5.1354e-04\n",
      "Epoch 69/100\n",
      "100/100 [==============================] - 2s 17ms/step - loss: 8.7321e-04\n",
      "Epoch 70/100\n",
      "100/100 [==============================] - 2s 18ms/step - loss: 3.8499e-04\n",
      "Epoch 71/100\n",
      "100/100 [==============================] - 2s 17ms/step - loss: 6.3078e-04\n",
      "Epoch 72/100\n",
      "100/100 [==============================] - 2s 17ms/step - loss: 6.4604e-04\n",
      "Epoch 73/100\n",
      "100/100 [==============================] - 2s 18ms/step - loss: 6.7065e-04\n",
      "Epoch 74/100\n",
      "100/100 [==============================] - 2s 17ms/step - loss: 5.9314e-04\n",
      "Epoch 75/100\n",
      "100/100 [==============================] - 2s 17ms/step - loss: 8.1229e-04\n",
      "Epoch 76/100\n",
      "100/100 [==============================] - 2s 17ms/step - loss: 5.4237e-04\n",
      "Epoch 77/100\n",
      "100/100 [==============================] - 2s 18ms/step - loss: 5.9813e-04\n",
      "Epoch 78/100\n",
      "100/100 [==============================] - 2s 17ms/step - loss: 5.5285e-04\n",
      "Epoch 79/100\n",
      "100/100 [==============================] - 2s 17ms/step - loss: 4.3600e-04\n",
      "Epoch 80/100\n",
      "100/100 [==============================] - 2s 18ms/step - loss: 4.6676e-04\n",
      "Epoch 81/100\n",
      "100/100 [==============================] - 2s 20ms/step - loss: 4.8466e-04\n",
      "Epoch 82/100\n",
      "100/100 [==============================] - 2s 24ms/step - loss: 4.8650e-04\n",
      "Epoch 83/100\n",
      "100/100 [==============================] - 2s 21ms/step - loss: 6.4029e-04\n",
      "Epoch 84/100\n",
      "100/100 [==============================] - 2s 21ms/step - loss: 4.6712e-04\n",
      "Epoch 85/100\n",
      "100/100 [==============================] - 2s 21ms/step - loss: 7.7549e-04\n",
      "Epoch 86/100\n",
      "100/100 [==============================] - 2s 21ms/step - loss: 0.0012\n",
      "Epoch 87/100\n",
      "100/100 [==============================] - 2s 20ms/step - loss: 5.5492e-04\n",
      "Epoch 88/100\n",
      "100/100 [==============================] - 2s 19ms/step - loss: 5.3730e-04\n",
      "Epoch 89/100\n",
      "100/100 [==============================] - 2s 18ms/step - loss: 5.3300e-04\n",
      "Epoch 90/100\n",
      "100/100 [==============================] - 2s 17ms/step - loss: 5.7357e-04\n",
      "Epoch 91/100\n",
      "100/100 [==============================] - 2s 20ms/step - loss: 4.9740e-04\n",
      "Epoch 92/100\n",
      "100/100 [==============================] - 3s 25ms/step - loss: 5.6691e-04\n",
      "Epoch 93/100\n",
      "100/100 [==============================] - 2s 22ms/step - loss: 3.8230e-04\n",
      "Epoch 94/100\n"
     ]
    },
    {
     "name": "stdout",
     "output_type": "stream",
     "text": [
      "100/100 [==============================] - 2s 19ms/step - loss: 5.1321e-04\n",
      "Epoch 95/100\n",
      "100/100 [==============================] - 2s 21ms/step - loss: 4.8044e-04\n",
      "Epoch 96/100\n",
      "100/100 [==============================] - 2s 23ms/step - loss: 6.4864e-04\n",
      "Epoch 97/100\n",
      "100/100 [==============================] - 2s 22ms/step - loss: 5.5166e-04\n",
      "Epoch 98/100\n",
      "100/100 [==============================] - 2s 19ms/step - loss: 5.1274e-04\n",
      "Epoch 99/100\n",
      "100/100 [==============================] - 2s 18ms/step - loss: 5.7833e-04\n",
      "Epoch 100/100\n",
      "100/100 [==============================] - 2s 18ms/step - loss: 6.3099e-04\n"
     ]
    },
    {
     "data": {
      "text/plain": [
       "<tensorflow.python.keras.callbacks.History at 0x2dca5700088>"
      ]
     },
     "execution_count": 77,
     "metadata": {},
     "output_type": "execute_result"
    }
   ],
   "source": [
    "model.fit(x_train,y_train,batch_size=1,epochs=5)"
   ]
  },
  {
   "cell_type": "code",
   "execution_count": 78,
   "metadata": {},
   "outputs": [],
   "source": [
    "filename = 'my_model.h5'\n",
    "model.save(filename)\n",
    "del model"
   ]
  },
  {
   "cell_type": "code",
   "execution_count": 79,
   "metadata": {},
   "outputs": [],
   "source": [
    "model = load_model('my_model.h5')"
   ]
  },
  {
   "cell_type": "code",
   "execution_count": 80,
   "metadata": {},
   "outputs": [],
   "source": [
    "test_data = scaled_data[training_data_len - 60: , :]\n",
    "x_test = []\n",
    "y_test = dataset[training_data_len:, :]\n",
    "for i in range(60,len(test_data)):\n",
    "    x_test.append(test_data[i-60:i,0])"
   ]
  },
  {
   "cell_type": "code",
   "execution_count": 81,
   "metadata": {},
   "outputs": [],
   "source": [
    "x_test = np.array(x_test)"
   ]
  },
  {
   "cell_type": "code",
   "execution_count": 82,
   "metadata": {},
   "outputs": [],
   "source": [
    "x_test = np.reshape(x_test, (x_test.shape[0],x_test.shape[1],1))"
   ]
  },
  {
   "cell_type": "code",
   "execution_count": 83,
   "metadata": {},
   "outputs": [],
   "source": [
    "predictions = model.predict(x_test)\n",
    "predictions = scaler.inverse_transform(predictions)"
   ]
  },
  {
   "cell_type": "code",
   "execution_count": 84,
   "metadata": {},
   "outputs": [
    {
     "data": {
      "text/plain": [
       "3.8166567993164078"
      ]
     },
     "execution_count": 84,
     "metadata": {},
     "output_type": "execute_result"
    }
   ],
   "source": [
    "rmse = np.sqrt(np.mean(predictions - y_test)**2)\n",
    "rmse"
   ]
  },
  {
   "cell_type": "code",
   "execution_count": 85,
   "metadata": {},
   "outputs": [
    {
     "name": "stderr",
     "output_type": "stream",
     "text": [
      "C:\\Users\\u957205\\AppData\\Roaming\\Python\\Python37\\site-packages\\ipykernel_launcher.py:3: SettingWithCopyWarning: \n",
      "A value is trying to be set on a copy of a slice from a DataFrame.\n",
      "Try using .loc[row_indexer,col_indexer] = value instead\n",
      "\n",
      "See the caveats in the documentation: http://pandas.pydata.org/pandas-docs/stable/user_guide/indexing.html#returning-a-view-versus-a-copy\n",
      "  This is separate from the ipykernel package so we can avoid doing imports until\n"
     ]
    },
    {
     "data": {
      "text/plain": [
       "[<matplotlib.lines.Line2D at 0x2dcada4f508>,\n",
       " <matplotlib.lines.Line2D at 0x2dcada4fa48>]"
      ]
     },
     "execution_count": 85,
     "metadata": {},
     "output_type": "execute_result"
    },
    {
     "data": {
      "image/png": "[encoded data removed]",
      "text/plain": [
       "<Figure size 1152x576 with 1 Axes>"
      ]
     },
     "metadata": {
      "needs_background": "light"
     },
     "output_type": "display_data"
    }
   ],
   "source": [
    "train = data[:training_data_len]\n",
    "valid = data[training_data_len:]\n",
    "valid['Predictions'] = predictions\n",
    "plt.figure(figsize=(16,8))\n",
    "plt.plot(train['COURS_CLOTURE'])\n",
    "plt.plot(valid[['COURS_CLOTURE','Predictions']])"
   ]
  },
  {
   "cell_type": "code",
   "execution_count": 86,
   "metadata": {},
   "outputs": [
    {
     "name": "stdout",
     "output_type": "stream",
     "text": [
      "[[692.754]]\n"
     ]
    }
   ],
   "source": [
    "#predict price in the next open maret day\n",
    "new_df = data[-60:].values\n",
    "new_df_scaled = scaler.transform(new_df)\n",
    "X_test = []\n",
    "X_test.append(new_df_scaled)\n",
    "X_test = np.array(X_test)\n",
    "X_test = np.reshape(X_test, (X_test.shape[0],X_test.shape[1],1))\n",
    "pred_price = model.predict(X_test)\n",
    "pred_price = scaler.inverse_transform(pred_price)\n",
    "print(pred_price)"
   ]
  },
  {
   "cell_type": "code",
   "execution_count": null,
   "metadata": {},
   "outputs": [],
   "source": []
  },
  {
   "cell_type": "code",
   "execution_count": null,
   "metadata": {},
   "outputs": [],
   "source": []
  }
 ],
 "metadata": {
  "kernelspec": {
   "display_name": "Python 3",
   "language": "python",
   "name": "python3"
  },
  "language_info": {
   "codemirror_mode": {
    "name": "ipython",
    "version": 3
   },
   "file_extension": ".py",
   "mimetype": "text/x-python",
   "name": "python",
   "nbconvert_exporter": "python",
   "pygments_lexer": "ipython3",
   "version": "3.7.5"
  }
 },
 "nbformat": 4,
 "nbformat_minor": 2
}
